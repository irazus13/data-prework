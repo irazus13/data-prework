{
 "cells": [
  {
   "cell_type": "markdown",
   "metadata": {},
   "source": [
    "<img src=\"https://bit.ly/2VnXWr2\" width=\"100\" align=\"left\"/>"
   ]
  },
  {
   "cell_type": "markdown",
   "metadata": {},
   "source": [
    "# Robin Hood\n",
    "Robin Hood has entered a competition to win the archery contest in Sherwood. With his bow and arrows, he needs to shoot on a target and try to hit as close as possible to the center.\n",
    "\n",
    "![](images/arrows.jpg)\n",
    "\n",
    "## Context\n",
    "In this challenge, the landing position of arrows shot by archers in the competition will be represented using 2-dimensional coordinates. \n",
    "\n",
    "In the 2-dimensional space, a point can be defined by a pair of values that correspond to the horizontal coordinate (x) and the vertical coordinate (y). For example, in our case, an arrow that hits the center of the archery target will land in position (0, 0) on the coordinate axes. \n",
    "\n",
    "The space can be divided into 4 zones (quadrants): Q1, Q2, Q3, Q4. If a point is in Q1, both its x coordinate and y coordinate are positive. Any point with a null x or y coordinate is considered to not belong to any quadrant. \n",
    "\n",
    "If you want to know more about the cartesian coordinate system, you can check this [link](https://en.wikipedia.org/wiki/Cartesian_coordinate_system). \n",
    "\n",
    "## Tools\n",
    "You don't necessarily need to use all the tools. Maybe you opt to use some of them or completely different ones, they are given to help you shape the exercise. Programming exercises can be solved in many different ways.\n",
    "* Data structures: **lists, sets, tuples**\n",
    "* Conditional statements: **if-elif-else**\n",
    "* Loop: **while/for**\n",
    "* Minimum (optional sorting)\n",
    "\n",
    "## Tasks\n",
    "Robin Hood has hit the following points:"
   ]
  },
  {
   "cell_type": "code",
   "execution_count": 2,
   "metadata": {},
   "outputs": [],
   "source": [
    "points = [(4, 5), (-0, 2), (4, 7), (1, -3), (3, -2), (4, 5), (3, 2), (5, 7), (-5, 7), (2, 2), (-4, 5), (0, -2),\n",
    "          (-4, 7), (-1, 3), (-3, 2), (-4, -5), (-3, 2), (5, 7), (5, 7), (2, 2), (9, 9), (-8, -9)]"
   ]
  },
  {
   "cell_type": "markdown",
   "metadata": {},
   "source": [
    "#### 1. Robin Hood is famous for hitting an arrow with another arrow. Find the coordinates of the points where an arrow hits another arrow."
   ]
  },
  {
   "cell_type": "code",
   "execution_count": 10,
   "metadata": {},
   "outputs": [
    {
     "name": "stdout",
     "output_type": "stream",
     "text": [
      "This are the coordinates where an arrow hits another arrow: [(4, 5), (-3, 2), (5, 7), (2, 2)]\n"
     ]
    }
   ],
   "source": [
    "not_coincidence=[]\n",
    "arrow_hit_arrow=[]\n",
    "for i in points:\n",
    "    if i not in not_coincidence:\n",
    "        not_coincidence.append(i)\n",
    "    elif i not in  arrow_hit_arrow:\n",
    "        arrow_hit_arrow.append(i)\n",
    "print(\"This are the coordinates where an arrow hits another arrow:\",arrow_hit_arrow)"
   ]
  },
  {
   "cell_type": "markdown",
   "metadata": {},
   "source": [
    "#### 2. Calculate how many arrows have fallen in each quadrant. \n",
    "**Note**: the arrows that fall in the axis (x=0 or y=0) don't belong to any quadrant."
   ]
  },
  {
   "cell_type": "code",
   "execution_count": 40,
   "metadata": {},
   "outputs": [
    {
     "name": "stdout",
     "output_type": "stream",
     "text": [
      "The number of arrows in the Q1 is: 10\n",
      "The number of arrows in the Q2 is: 6\n",
      "The number of arrows in the Q3 is: 2\n",
      "The number of arrows in the Q4 is: 2\n",
      "The number of arrows that falls in the axis is: 2\n"
     ]
    }
   ],
   "source": [
    "#q1- x e y positivos/ q2- x negativo e y positivo/ q3- x e y negativos/ q4-x positivo e y negativo\n",
    "q1=[]\n",
    "q2=[]\n",
    "q3=[]\n",
    "q4=[]\n",
    "nq=[]\n",
    "for i in range(len(points)):\n",
    "    if(points[i][0])==0 or  (points[i][1])==0:\n",
    "        nq.append(points[i])\n",
    "    elif (points[i][0])>0 and (points[i][1])>0:\n",
    "        q1.append(points[i])\n",
    "    elif (points[i][0])<0 and (points[i][1])>0:\n",
    "        q2.append(points[i])\n",
    "    elif (points[i][0])<0 and (points[i][1])<0:\n",
    "        q3.append(points[i])\n",
    "    elif (points[i][0])>0 and (points[i][1])<0:\n",
    "        q4.append(points[i])    \n",
    "print(\"The number of arrows in the Q1 is:\",len(q1))\n",
    "print(\"The number of arrows in the Q2 is:\",len(q2))\n",
    "print(\"The number of arrows in the Q3 is:\",len(q3))\n",
    "print(\"The number of arrows in the Q4 is:\",len(q4))\n",
    "print(\"The number of arrows that falls in the axis is:\",len(nq))"
   ]
  },
  {
   "cell_type": "markdown",
   "metadata": {},
   "source": [
    "#### 3. Find the point closest to the center. Calculate its distance to the center. \n",
    "Take into account that there might be more than one point at the minimum distance to the center.\n",
    "\n",
    "**Hint**: Use the Euclidean distance. You can find more information about it [here](https://en.wikipedia.org/wiki/Euclidean_distance).  \n",
    "**Hint**: Defining a function that calculates the distance to the center can help."
   ]
  },
  {
   "cell_type": "code",
   "execution_count": 65,
   "metadata": {},
   "outputs": [
    {
     "name": "stdout",
     "output_type": "stream",
     "text": [
      "The points closest to the center are (0, 2)\n",
      "The points closest to the center are (0, -2)\n"
     ]
    }
   ],
   "source": [
    "##calculo de la distancia: punto(p1,p2) distancia(q1,q2), en este caso (0,0). distancia = raiz cuadrada de (q1-p1)**2+(q2-p2)**2\n",
    "def calculo_distancia(x,y):\n",
    "    dsr=(x**2)+(y**2)\n",
    "    import math\n",
    "    distancia=math.sqrt(dsr)\n",
    "    return(distancia)\n",
    "ls_distancia=[]\n",
    "for i in range(len(points)):\n",
    "    x=points[i][0]\n",
    "    y=points[i][1]\n",
    "    ls_distancia.append(calculo_distancia(x,y))\n",
    "for i in range(len(points)):\n",
    "    if min(ls)==ls[i]:\n",
    "        print(\"The points closest to the center are\",points[i])\n",
    "    "
   ]
  },
  {
   "cell_type": "markdown",
   "metadata": {},
   "source": [
    "#### 4. If the archery target has a radius of 9, calculate the number of arrows that won't hit the target. \n",
    "**Hint**: Use the function created in step 3. "
   ]
  },
  {
   "cell_type": "code",
   "execution_count": 68,
   "metadata": {},
   "outputs": [
    {
     "name": "stdout",
     "output_type": "stream",
     "text": [
      "the number of arrows that wont hit the target was 2\n"
     ]
    }
   ],
   "source": [
    "count_arrows_notarget=0\n",
    "for i in ls_distancia:\n",
    "    if i>9:\n",
    "        count_arrows_notarget+=1\n",
    "print(\"the number of arrows that wont hit the target was\",count_arrows_notarget)"
   ]
  }
 ],
 "metadata": {
  "kernelspec": {
   "display_name": "Python 3",
   "language": "python",
   "name": "python3"
  },
  "language_info": {
   "codemirror_mode": {
    "name": "ipython",
    "version": 3
   },
   "file_extension": ".py",
   "mimetype": "text/x-python",
   "name": "python",
   "nbconvert_exporter": "python",
   "pygments_lexer": "ipython3",
   "version": "3.8.8"
  }
 },
 "nbformat": 4,
 "nbformat_minor": 2
}
