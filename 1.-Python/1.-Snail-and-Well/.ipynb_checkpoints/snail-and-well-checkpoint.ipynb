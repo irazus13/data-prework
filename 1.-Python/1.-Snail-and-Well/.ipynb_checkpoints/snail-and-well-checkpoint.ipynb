{
 "cells": [
  {
   "cell_type": "markdown",
   "metadata": {},
   "source": [
    "<img src=\"https://bit.ly/2VnXWr2\" width=\"100\" align=\"left\">"
   ]
  },
  {
   "cell_type": "markdown",
   "metadata": {},
   "source": [
    "# The Snail and the Well\n",
    "\n",
    "A snail falls at the bottom of a 125 cm well. Each day the snail rises 30 cm. But at night, while sleeping, slides 20 cm because the walls are wet. How many days does it take for the snail to escape the well?\n",
    "\n",
    "**Hint**: The snail gets out of the well when it surpasses the 125cm of height.\n",
    "\n",
    "## Tools\n",
    "\n",
    "1. Loop: **while**\n",
    "2. Conditional statements: **if-else**\n",
    "3. Function: **print()**\n",
    "\n",
    "## Tasks\n",
    "\n",
    "#### 1. Assign the challenge data to variables with representative names: `well_height`, `daily_distance`, `nightly_distance` and `snail_position`."
   ]
  },
  {
   "cell_type": "code",
   "execution_count": 35,
   "metadata": {},
   "outputs": [],
   "source": [
    "well_height=125\n",
    "daily_distance=30\n",
    "nightly_distance=-20\n",
    "snail_position=0\n"
   ]
  },
  {
   "cell_type": "markdown",
   "metadata": {},
   "source": [
    "#### 2. Create a variable `days` to keep count of the days that pass until the snail escapes the well. "
   ]
  },
  {
   "cell_type": "code",
   "execution_count": 36,
   "metadata": {},
   "outputs": [],
   "source": [
    "days=0"
   ]
  },
  {
   "cell_type": "markdown",
   "metadata": {},
   "source": [
    "#### 3. Find the solution to the challenge using the variables defined above. "
   ]
  },
  {
   "cell_type": "code",
   "execution_count": 37,
   "metadata": {},
   "outputs": [
    {
     "name": "stdout",
     "output_type": "stream",
     "text": [
      "day  1 has  10 cm scaled!\n",
      "day  2 has  20 cm scaled!\n",
      "day  3 has  30 cm scaled!\n",
      "day  4 has  40 cm scaled!\n",
      "day  5 has  50 cm scaled!\n",
      "day  6 has  60 cm scaled!\n",
      "day  7 has  70 cm scaled!\n",
      "day  8 has  80 cm scaled!\n",
      "day  9 has  90 cm scaled!\n",
      "day  10 has  100 cm scaled!\n",
      "day  11 has  110 cm scaled!\n",
      "day  12 has  120 cm scaled!\n",
      "day  13 has  130 cm scaled!\n"
     ]
    }
   ],
   "source": [
    "while snail_position<well_height:\n",
    "    days+=1\n",
    "    snail_position=snail_position+daily_distance+nightly_distance\n",
    "    print(\"day \",days,\"has \",snail_position,\"cm scaled!\")\n",
    "    \n"
   ]
  },
  {
   "cell_type": "markdown",
   "metadata": {},
   "source": [
    "#### 4. Print the solution."
   ]
  },
  {
   "cell_type": "code",
   "execution_count": 27,
   "metadata": {},
   "outputs": [
    {
     "name": "stdout",
     "output_type": "stream",
     "text": [
      "snail needs  13  days to escape\n"
     ]
    }
   ],
   "source": [
    "print(\"snail needs \",days, \" days to escape\")"
   ]
  },
  {
   "cell_type": "markdown",
   "metadata": {},
   "source": [
    "## Bonus\n",
    "The distance traveled by the snail each day is now defined by a list.\n",
    "```\n",
    "advance_cm = [30, 21, 33, 77, 44, 45, 23, 45, 12, 34, 55]\n",
    "```\n",
    "On the first day, the snail rises 30cm but during the night it slides 20cm. On the second day, the snail rises 21cm but during the night it slides 20cm, and so on. \n",
    "\n",
    "#### 1. How many days does it take for the snail to escape the well?\n",
    "Follow the same guidelines as in the previous challenge.\n",
    "\n",
    "**Hint**: Remember that the snail gets out of the well when it surpasses the 125cm of height."
   ]
  },
  {
   "cell_type": "code",
   "execution_count": 48,
   "metadata": {},
   "outputs": [
    {
     "name": "stdout",
     "output_type": "stream",
     "text": [
      "the day  1 has scaled  10 cm, the snail carries scaled 10 cm!\n",
      "the day  2 has scaled  1 cm, the snail carries scaled 11 cm!\n",
      "the day  3 has scaled  13 cm, the snail carries scaled 24 cm!\n",
      "the day  4 has scaled  57 cm, the snail carries scaled 81 cm!\n",
      "the day  5 has scaled  24 cm, the snail carries scaled 105 cm!\n",
      "the day  6 has scaled  25 cm, the snail carries scaled 130 cm!\n",
      "Snail takes  6  days to escape the well\n"
     ]
    }
   ],
   "source": [
    "well_height=125\n",
    "advance_cm= [30, 21, 33, 77, 44, 45, 23, 45, 12, 34, 55]\n",
    "nightly_distance=-20\n",
    "snail_position=0\n",
    "days=0\n",
    "while snail_position<well_height:\n",
    "    snail_position=snail_position+advance_cm[days]+nightly_distance\n",
    "    \n",
    "    print(\"the day \",days+1,\"has scaled \",advance_cm[days]+nightly_distance,\"cm, the snail carries scaled\",snail_position,\"cm!\")\n",
    "    days+=1\n",
    "print(\"Snail takes \",days,\" days to escape the well\")\n"
   ]
  },
  {
   "cell_type": "markdown",
   "metadata": {},
   "source": [
    "#### 2. What is its maximum displacement in one day? And its minimum? Calculate the displacement using only the travel distance of the days used to get out of the well. \n",
    "**Hint**: Remember that displacement means the total distance risen taking into account that the snail slides at night.  "
   ]
  },
  {
   "cell_type": "code",
   "execution_count": 102,
   "metadata": {},
   "outputs": [
    {
     "name": "stdout",
     "output_type": "stream",
     "text": [
      "Its maximum displacement in one day:  57  cm!\n",
      "Its minimun displacement in one day:  1 cm!\n"
     ]
    }
   ],
   "source": [
    "displacement=advance_cm[days]+nightly_distance\n",
    "maximum_displacement=0\n",
    "for i in advance_cm[0:days]:\n",
    "    displacement=i+nightly_distance\n",
    "    while displacement>maximum_displacement:\n",
    "        maximum_displacement=displacement\n",
    "    while displacement<minimun_displacement:\n",
    "        minimun_displacement=displacement\n",
    "print(\"Its maximum displacement in one day: \",maximum_displacement,\" cm!\")\n",
    "print(\"Its minimun displacement in one day: \",minimun_displacement,\"cm!\")\n",
    "\n"
   ]
  },
  {
   "cell_type": "markdown",
   "metadata": {},
   "source": [
    "#### 3. What is its average progress? Take into account the snail slides at night."
   ]
  },
  {
   "cell_type": "code",
   "execution_count": 104,
   "metadata": {},
   "outputs": [
    {
     "name": "stdout",
     "output_type": "stream",
     "text": [
      "the day  1 has scaled  10  cm and made progress that day of  7.94 %\n",
      "the day  2 has scaled  1  cm and made progress that day of  0.79 %\n",
      "the day  3 has scaled  13  cm and made progress that day of  10.32 %\n",
      "the day  4 has scaled  57  cm and made progress that day of  45.24 %\n",
      "the day  5 has scaled  24  cm and made progress that day of  19.05 %\n",
      "the day  6 has scaled  25  cm and made progress that day of  19.84 %\n",
      "The average progress for each day was 16.67 %\n"
     ]
    }
   ],
   "source": [
    "well_height=125\n",
    "advance_cm= [30, 21, 33, 77, 44, 45, 23, 45, 12, 34, 55]\n",
    "nightly_distance=-20\n",
    "snail_position=0\n",
    "days=0\n",
    "daily_average=((advance_cm[days]+nightly_distance)/(well_height+1))*100\n",
    "\n",
    "while snail_position<well_height:\n",
    "    snail_position=snail_position+advance_cm[days]+nightly_distance\n",
    "    \n",
    "    daily_average=((advance_cm[days]+nightly_distance)/(well_height+1))*100\n",
    "    \n",
    "    print(\"the day \",days+1,\"has scaled \",advance_cm[days]+nightly_distance,\" cm and made progress that day of \",round(daily_average,2),\"%\")\n",
    "    days+=1\n",
    "average_progress=100/len(advance_cm[0:days])\n",
    "print(\"The average progress for each day was\",round(average_progress,2),\"%\")\n"
   ]
  },
  {
   "cell_type": "markdown",
   "metadata": {},
   "source": [
    "#### 4. What is the standard deviation of its displacement? Take into account the snail slides at night."
   ]
  },
  {
   "cell_type": "code",
   "execution_count": null,
   "metadata": {},
   "outputs": [],
   "source": []
  }
 ],
 "metadata": {
  "kernelspec": {
   "display_name": "Python 3",
   "language": "python",
   "name": "python3"
  },
  "language_info": {
   "codemirror_mode": {
    "name": "ipython",
    "version": 3
   },
   "file_extension": ".py",
   "mimetype": "text/x-python",
   "name": "python",
   "nbconvert_exporter": "python",
   "pygments_lexer": "ipython3",
   "version": "3.8.8"
  }
 },
 "nbformat": 4,
 "nbformat_minor": 2
}
