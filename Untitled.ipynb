{
 "cells": [
  {
   "cell_type": "code",
   "execution_count": 1,
   "id": "bdc0609d",
   "metadata": {},
   "outputs": [
    {
     "name": "stdout",
     "output_type": "stream",
     "text": [
      "HOla mundo\n"
     ]
    }
   ],
   "source": [
    "print(\"HOla mundo\")"
   ]
  },
  {
   "cell_type": "code",
   "execution_count": 2,
   "id": "76d52e07",
   "metadata": {},
   "outputs": [
    {
     "data": {
      "text/plain": [
       "0"
      ]
     },
     "execution_count": 2,
     "metadata": {},
     "output_type": "execute_result"
    }
   ],
   "source": [
    "4+4\n",
    "4-4\n",
    "4*4\n",
    "4**4\n",
    "4/4\n",
    "4//4\n",
    "4%4"
   ]
  },
  {
   "cell_type": "code",
   "execution_count": 7,
   "id": "0dcaa201",
   "metadata": {},
   "outputs": [],
   "source": [
    "#comentario para anotacione"
   ]
  },
  {
   "cell_type": "code",
   "execution_count": 9,
   "id": "6d798b0e",
   "metadata": {},
   "outputs": [
    {
     "name": "stdout",
     "output_type": "stream",
     "text": [
      "<class 'str'>\n",
      "<class 'int'>\n",
      "<class 'float'>\n",
      "<class 'bool'>\n"
     ]
    }
   ],
   "source": [
    "a=\"5\"\n",
    "b=5\n",
    "c=5.0\n",
    "d=True\n",
    "print(type(a))\n",
    "print(type(b))\n",
    "print(type(c))\n",
    "print(type(d))"
   ]
  },
  {
   "cell_type": "code",
   "execution_count": 13,
   "id": "a8a0ee9b",
   "metadata": {},
   "outputs": [
    {
     "data": {
      "text/plain": [
       "3.23321"
      ]
     },
     "execution_count": 13,
     "metadata": {},
     "output_type": "execute_result"
    }
   ],
   "source": [
    "round(3.23321,10)"
   ]
  },
  {
   "cell_type": "code",
   "execution_count": 16,
   "id": "13659853",
   "metadata": {},
   "outputs": [
    {
     "data": {
      "text/plain": [
       "5"
      ]
     },
     "execution_count": 16,
     "metadata": {},
     "output_type": "execute_result"
    }
   ],
   "source": [
    "d*b"
   ]
  },
  {
   "cell_type": "code",
   "execution_count": 17,
   "id": "f4c1dc71",
   "metadata": {},
   "outputs": [
    {
     "name": "stdout",
     "output_type": "stream",
     "text": [
      "Cual es tu nombreSergoo\n",
      "Hola  Sergoo\n"
     ]
    }
   ],
   "source": [
    "a=input(\"Cual es tu nombre\")\n",
    "print(\"Hola \",a)"
   ]
  },
  {
   "cell_type": "code",
   "execution_count": 19,
   "id": "7d80af74",
   "metadata": {},
   "outputs": [
    {
     "name": "stdout",
     "output_type": "stream",
     "text": [
      "Cuantos perros?40\n",
      "Cuantos gatos?25\n",
      "Cuantos conejos?10\n",
      "Total number of animals: 75\n",
      "Total shelter square feet: 750\n",
      "Square feet per animal: 10.0\n"
     ]
    }
   ],
   "source": [
    "dogs = int(input(\"Cuantos perros?\"))\n",
    "cats = int(input(\"Cuantos gatos?\"))\n",
    "rabbits = int(input(\"Cuantos conejos?\"))\n",
    " \n",
    "shelter_length = 30\n",
    "shelter_width = 25\n",
    "\n",
    "total_animals = dogs + cats + rabbits\n",
    "sqft = shelter_length * shelter_width\n",
    " \n",
    "print(\"Total number of animals:\", total_animals)\n",
    "print(\"Total shelter square feet:\", sqft)\n",
    "print(\"Square feet per animal:\", sqft/total_animals)\n",
    " \n"
   ]
  },
  {
   "cell_type": "code",
   "execution_count": 21,
   "id": "dc0ac6b1",
   "metadata": {},
   "outputs": [],
   "source": [
    "a=\"automobile\""
   ]
  },
  {
   "cell_type": "code",
   "execution_count": 22,
   "id": "f0a926a8",
   "metadata": {},
   "outputs": [
    {
     "data": {
      "text/plain": [
       "10"
      ]
     },
     "execution_count": 22,
     "metadata": {},
     "output_type": "execute_result"
    }
   ],
   "source": [
    "len(a)"
   ]
  },
  {
   "cell_type": "code",
   "execution_count": 23,
   "id": "9201ec62",
   "metadata": {},
   "outputs": [
    {
     "data": {
      "text/plain": [
       "'m'"
      ]
     },
     "execution_count": 23,
     "metadata": {},
     "output_type": "execute_result"
    }
   ],
   "source": [
    "a[4]"
   ]
  },
  {
   "cell_type": "code",
   "execution_count": 24,
   "id": "f048b8ce",
   "metadata": {},
   "outputs": [
    {
     "data": {
      "text/plain": [
       "'mobile'"
      ]
     },
     "execution_count": 24,
     "metadata": {},
     "output_type": "execute_result"
    }
   ],
   "source": [
    "a[4:]"
   ]
  },
  {
   "cell_type": "code",
   "execution_count": 25,
   "id": "05525ba7",
   "metadata": {},
   "outputs": [
    {
     "data": {
      "text/plain": [
       "'auto'"
      ]
     },
     "execution_count": 25,
     "metadata": {},
     "output_type": "execute_result"
    }
   ],
   "source": [
    "a[:4]"
   ]
  },
  {
   "cell_type": "code",
   "execution_count": 27,
   "id": "dc7af347",
   "metadata": {},
   "outputs": [
    {
     "data": {
      "text/plain": [
       "'automobile'"
      ]
     },
     "execution_count": 27,
     "metadata": {},
     "output_type": "execute_result"
    }
   ],
   "source": [
    "a[:]"
   ]
  },
  {
   "cell_type": "code",
   "execution_count": 28,
   "id": "8e54a1d4",
   "metadata": {},
   "outputs": [
    {
     "data": {
      "text/plain": [
       "'e'"
      ]
     },
     "execution_count": 28,
     "metadata": {},
     "output_type": "execute_result"
    }
   ],
   "source": [
    "a[-1]"
   ]
  },
  {
   "cell_type": "code",
   "execution_count": 29,
   "id": "5bb9268b",
   "metadata": {},
   "outputs": [],
   "source": [
    "a=[1,3,5,7,2,4,8,10]\n",
    "\n",
    "b=['The', 'man', 'in', 'the', 'blue', 'suit']\n",
    "\n",
    "c=['apple', 390, 876, 'orange', 'highway', 2, 87, 36]\n"
   ]
  },
  {
   "cell_type": "code",
   "execution_count": 30,
   "id": "306404f0",
   "metadata": {},
   "outputs": [
    {
     "data": {
      "text/plain": [
       "['The', 'man', 'in']"
      ]
     },
     "execution_count": 30,
     "metadata": {},
     "output_type": "execute_result"
    }
   ],
   "source": [
    "b[:3]"
   ]
  },
  {
   "cell_type": "code",
   "execution_count": 31,
   "id": "7428f015",
   "metadata": {},
   "outputs": [
    {
     "data": {
      "text/plain": [
       "6"
      ]
     },
     "execution_count": 31,
     "metadata": {},
     "output_type": "execute_result"
    }
   ],
   "source": [
    "len(b)"
   ]
  },
  {
   "cell_type": "code",
   "execution_count": 32,
   "id": "48b7aa90",
   "metadata": {},
   "outputs": [
    {
     "data": {
      "text/plain": [
       "['the', 'blue', 'suit']"
      ]
     },
     "execution_count": 32,
     "metadata": {},
     "output_type": "execute_result"
    }
   ],
   "source": [
    "b[3:]"
   ]
  },
  {
   "cell_type": "code",
   "execution_count": 33,
   "id": "db3d8ff4",
   "metadata": {},
   "outputs": [],
   "source": [
    "c.append(\"prueba\")"
   ]
  },
  {
   "cell_type": "code",
   "execution_count": 34,
   "id": "c0945c69",
   "metadata": {},
   "outputs": [
    {
     "name": "stdout",
     "output_type": "stream",
     "text": [
      "['apple', 390, 876, 'orange', 'highway', 2, 87, 36, 'prueba']\n"
     ]
    }
   ],
   "source": [
    "print(c)"
   ]
  },
  {
   "cell_type": "code",
   "execution_count": 35,
   "id": "381a7ae7",
   "metadata": {},
   "outputs": [],
   "source": [
    "c.remove(\"prueba\")"
   ]
  },
  {
   "cell_type": "code",
   "execution_count": 36,
   "id": "e63b082a",
   "metadata": {},
   "outputs": [
    {
     "name": "stdout",
     "output_type": "stream",
     "text": [
      "['apple', 390, 876, 'orange', 'highway', 2, 87, 36]\n"
     ]
    }
   ],
   "source": [
    "print(c)"
   ]
  },
  {
   "cell_type": "code",
   "execution_count": 37,
   "id": "db7d563f",
   "metadata": {},
   "outputs": [
    {
     "name": "stdout",
     "output_type": "stream",
     "text": [
      "[1, 3, 5, 7, 2, 4, 8, 10, 'The', 'man', 'in', 'the', 'blue', 'suit']\n"
     ]
    }
   ],
   "source": [
    "d=a+b\n",
    "print(d)"
   ]
  },
  {
   "cell_type": "code",
   "execution_count": 38,
   "id": "62050c01",
   "metadata": {},
   "outputs": [],
   "source": [
    "nested = [['A', 'man'], ['a', 'plan'], ['a', 'canal'], ['Panama', '!']]"
   ]
  },
  {
   "cell_type": "code",
   "execution_count": 39,
   "id": "0a2b809c",
   "metadata": {},
   "outputs": [
    {
     "data": {
      "text/plain": [
       "'a'"
      ]
     },
     "execution_count": 39,
     "metadata": {},
     "output_type": "execute_result"
    }
   ],
   "source": [
    "nested[1][0]"
   ]
  },
  {
   "cell_type": "code",
   "execution_count": 40,
   "id": "d66667ec",
   "metadata": {},
   "outputs": [],
   "source": [
    "a=[1,3,5,7,2,4,8,10]"
   ]
  },
  {
   "cell_type": "code",
   "execution_count": 41,
   "id": "c12140a1",
   "metadata": {},
   "outputs": [
    {
     "data": {
      "text/plain": [
       "40"
      ]
     },
     "execution_count": 41,
     "metadata": {},
     "output_type": "execute_result"
    }
   ],
   "source": [
    "sum(a)"
   ]
  },
  {
   "cell_type": "code",
   "execution_count": 42,
   "id": "882cba2b",
   "metadata": {},
   "outputs": [
    {
     "data": {
      "text/plain": [
       "5.0"
      ]
     },
     "execution_count": 42,
     "metadata": {},
     "output_type": "execute_result"
    }
   ],
   "source": [
    "sum(a)/len(a)"
   ]
  },
  {
   "cell_type": "code",
   "execution_count": 43,
   "id": "9c03d217",
   "metadata": {},
   "outputs": [
    {
     "data": {
      "text/plain": [
       "1"
      ]
     },
     "execution_count": 43,
     "metadata": {},
     "output_type": "execute_result"
    }
   ],
   "source": [
    "min(a)"
   ]
  },
  {
   "cell_type": "code",
   "execution_count": 44,
   "id": "e747bf68",
   "metadata": {},
   "outputs": [
    {
     "data": {
      "text/plain": [
       "10"
      ]
     },
     "execution_count": 44,
     "metadata": {},
     "output_type": "execute_result"
    }
   ],
   "source": [
    "max(a)"
   ]
  },
  {
   "cell_type": "code",
   "execution_count": 47,
   "id": "03564a96",
   "metadata": {},
   "outputs": [
    {
     "data": {
      "text/plain": [
       "[1, 2, 3, 4, 5, 7, 8, 10]"
      ]
     },
     "execution_count": 47,
     "metadata": {},
     "output_type": "execute_result"
    }
   ],
   "source": [
    "a.sort()\n",
    "a"
   ]
  },
  {
   "cell_type": "code",
   "execution_count": 48,
   "id": "94fe5531",
   "metadata": {},
   "outputs": [
    {
     "data": {
      "text/plain": [
       "[10, 8, 7, 5, 4, 3, 2, 1]"
      ]
     },
     "execution_count": 48,
     "metadata": {},
     "output_type": "execute_result"
    }
   ],
   "source": [
    "a.sort(reverse=True)\n",
    "a"
   ]
  },
  {
   "cell_type": "code",
   "execution_count": 49,
   "id": "26652604",
   "metadata": {},
   "outputs": [],
   "source": [
    "a.append(9)"
   ]
  },
  {
   "cell_type": "code",
   "execution_count": 51,
   "id": "e26ab541",
   "metadata": {},
   "outputs": [
    {
     "data": {
      "text/plain": [
       "[1, 2, 3, 4, 5, 7, 8, 9, 10]"
      ]
     },
     "execution_count": 51,
     "metadata": {},
     "output_type": "execute_result"
    }
   ],
   "source": [
    "a.sort()\n",
    "a"
   ]
  },
  {
   "cell_type": "code",
   "execution_count": 52,
   "id": "b8d4ca88",
   "metadata": {},
   "outputs": [],
   "source": [
    "a.sort(reverse=True)"
   ]
  },
  {
   "cell_type": "code",
   "execution_count": 53,
   "id": "2aec88e4",
   "metadata": {},
   "outputs": [
    {
     "data": {
      "text/plain": [
       "[10, 9, 8, 7, 5, 4, 3, 2, 1]"
      ]
     },
     "execution_count": 53,
     "metadata": {},
     "output_type": "execute_result"
    }
   ],
   "source": [
    "a"
   ]
  },
  {
   "cell_type": "code",
   "execution_count": 54,
   "id": "a46f1703",
   "metadata": {},
   "outputs": [
    {
     "data": {
      "text/plain": [
       "[1, 2, 3, 4, 5, 7, 8, 9, 10]"
      ]
     },
     "execution_count": 54,
     "metadata": {},
     "output_type": "execute_result"
    }
   ],
   "source": [
    "a.reverse()\n",
    "a"
   ]
  },
  {
   "cell_type": "code",
   "execution_count": 55,
   "id": "ab8936e7",
   "metadata": {},
   "outputs": [],
   "source": [
    "ages = {'Brian':23, 'Amy':22, 'Darlene':47, 'Ralph':32, 'Jordan':28, 'Stephanie':35}"
   ]
  },
  {
   "cell_type": "code",
   "execution_count": 56,
   "id": "6d43e8d4",
   "metadata": {},
   "outputs": [
    {
     "data": {
      "text/plain": [
       "23"
      ]
     },
     "execution_count": 56,
     "metadata": {},
     "output_type": "execute_result"
    }
   ],
   "source": [
    "ages[\"Brian\"]"
   ]
  },
  {
   "cell_type": "code",
   "execution_count": 58,
   "id": "79334a14",
   "metadata": {},
   "outputs": [
    {
     "data": {
      "text/plain": [
       "dict_keys(['Brian', 'Amy', 'Darlene', 'Ralph', 'Jordan', 'Stephanie'])"
      ]
     },
     "execution_count": 58,
     "metadata": {},
     "output_type": "execute_result"
    }
   ],
   "source": [
    "ages.keys()"
   ]
  },
  {
   "cell_type": "code",
   "execution_count": 59,
   "id": "8cb9b03b",
   "metadata": {},
   "outputs": [
    {
     "data": {
      "text/plain": [
       "dict_values([23, 22, 47, 32, 28, 35])"
      ]
     },
     "execution_count": 59,
     "metadata": {},
     "output_type": "execute_result"
    }
   ],
   "source": [
    "ages.values()"
   ]
  },
  {
   "cell_type": "code",
   "execution_count": 60,
   "id": "239b5c2e",
   "metadata": {},
   "outputs": [],
   "source": [
    "del ages[\"Brian\"]"
   ]
  },
  {
   "cell_type": "code",
   "execution_count": 61,
   "id": "bfa36a2c",
   "metadata": {},
   "outputs": [
    {
     "data": {
      "text/plain": [
       "{'Amy': 22, 'Darlene': 47, 'Ralph': 32, 'Jordan': 28, 'Stephanie': 35}"
      ]
     },
     "execution_count": 61,
     "metadata": {},
     "output_type": "execute_result"
    }
   ],
   "source": [
    "ages"
   ]
  },
  {
   "cell_type": "code",
   "execution_count": 62,
   "id": "fafe0b4e",
   "metadata": {},
   "outputs": [],
   "source": [
    "ages [\"Brian\"]=23"
   ]
  },
  {
   "cell_type": "code",
   "execution_count": 67,
   "id": "b4298231",
   "metadata": {},
   "outputs": [
    {
     "ename": "AttributeError",
     "evalue": "'dict_values' object has no attribute 'sort'",
     "output_type": "error",
     "traceback": [
      "\u001b[1;31m---------------------------------------------------------------------------\u001b[0m",
      "\u001b[1;31mAttributeError\u001b[0m                            Traceback (most recent call last)",
      "\u001b[1;32m<ipython-input-67-82ce14ee4a10>\u001b[0m in \u001b[0;36m<module>\u001b[1;34m\u001b[0m\n\u001b[1;32m----> 1\u001b[1;33m \u001b[1;33m(\u001b[0m\u001b[0mages\u001b[0m\u001b[1;33m.\u001b[0m\u001b[0mvalues\u001b[0m\u001b[1;33m(\u001b[0m\u001b[1;33m)\u001b[0m\u001b[1;33m)\u001b[0m\u001b[1;33m.\u001b[0m\u001b[0msort\u001b[0m\u001b[1;33m(\u001b[0m\u001b[1;33m)\u001b[0m\u001b[1;33m\u001b[0m\u001b[1;33m\u001b[0m\u001b[0m\n\u001b[0m",
      "\u001b[1;31mAttributeError\u001b[0m: 'dict_values' object has no attribute 'sort'"
     ]
    }
   ],
   "source": []
  },
  {
   "cell_type": "code",
   "execution_count": 69,
   "id": "8cf06a29",
   "metadata": {},
   "outputs": [
    {
     "data": {
      "text/plain": [
       "('The', 'man', 'in', 'the', 'blue', 'suit')"
      ]
     },
     "execution_count": 69,
     "metadata": {},
     "output_type": "execute_result"
    }
   ],
   "source": [
    "tuple(b)"
   ]
  },
  {
   "cell_type": "code",
   "execution_count": 70,
   "id": "106eee8b",
   "metadata": {},
   "outputs": [
    {
     "data": {
      "text/plain": [
       "['The', 'man', 'in', 'the', 'blue', 'suit']"
      ]
     },
     "execution_count": 70,
     "metadata": {},
     "output_type": "execute_result"
    }
   ],
   "source": [
    "list(b)"
   ]
  },
  {
   "cell_type": "code",
   "execution_count": 71,
   "id": "37c9548f",
   "metadata": {},
   "outputs": [
    {
     "data": {
      "text/plain": [
       "[1, 2, 3, 4, 5, 7, 8, 9, 10]"
      ]
     },
     "execution_count": 71,
     "metadata": {},
     "output_type": "execute_result"
    }
   ],
   "source": [
    "a"
   ]
  },
  {
   "cell_type": "code",
   "execution_count": 73,
   "id": "eb4b0dc7",
   "metadata": {},
   "outputs": [],
   "source": [
    "a.append(2)"
   ]
  },
  {
   "cell_type": "code",
   "execution_count": 77,
   "id": "c6894274",
   "metadata": {},
   "outputs": [
    {
     "data": {
      "text/plain": [
       "[1, 2, 3, 4, 5, 7, 8, 9, 10]"
      ]
     },
     "execution_count": 77,
     "metadata": {},
     "output_type": "execute_result"
    }
   ],
   "source": [
    "uniques=set(a)\n",
    "uniques\n",
    "list(uniques)"
   ]
  },
  {
   "cell_type": "code",
   "execution_count": 74,
   "id": "8951b33b",
   "metadata": {},
   "outputs": [
    {
     "data": {
      "text/plain": [
       "[1, 2, 3, 4, 5, 7, 8, 9, 10, 2]"
      ]
     },
     "execution_count": 74,
     "metadata": {},
     "output_type": "execute_result"
    }
   ],
   "source": [
    "a"
   ]
  },
  {
   "cell_type": "code",
   "execution_count": 133,
   "id": "acc4b937",
   "metadata": {},
   "outputs": [],
   "source": [
    "power= {'Fireball': 50,'Lightning bolt': 40,'Magic arrow': 10,'Black Tentacles': 25,'Contagion': 45}\n",
    "gandalf=['Fireball', 'Lightning bolt', 'Lightning bolt', 'Magic arrow', 'Fireball',\n",
    "         'Magic arrow', 'Lightning bolt', 'Fireball', 'Fireball', 'Fireball']\n",
    "saruman = ['Contagion', 'Contagion', 'Black Tentacles', 'Fireball', 'Black Tentacles', \n",
    "           'Lightning bolt', 'Magic arrow', 'Contagion', 'Magic arrow', 'Magic arrow']\n",
    "spells=0\n"
   ]
  },
  {
   "cell_type": "code",
   "execution_count": 134,
   "id": "f1ad0abd",
   "metadata": {},
   "outputs": [
    {
     "name": "stdout",
     "output_type": "stream",
     "text": [
      "['Fireball', 'Lightning bolt', 'Magic arrow', 'Black Tentacles', 'Contagion']\n"
     ]
    }
   ],
   "source": [
    "a=power.keys()\n",
    "b=list(a)\n",
    "print(b)"
   ]
  },
  {
   "cell_type": "code",
   "execution_count": 135,
   "id": "9882cd8f",
   "metadata": {},
   "outputs": [
    {
     "data": {
      "text/plain": [
       "10"
      ]
     },
     "execution_count": 135,
     "metadata": {},
     "output_type": "execute_result"
    }
   ],
   "source": [
    "len(gandalf)"
   ]
  },
  {
   "cell_type": "code",
   "execution_count": 136,
   "id": "5f0f4f8c",
   "metadata": {},
   "outputs": [
    {
     "ename": "IndexError",
     "evalue": "list assignment index out of range",
     "output_type": "error",
     "traceback": [
      "\u001b[1;31m---------------------------------------------------------------------------\u001b[0m",
      "\u001b[1;31mIndexError\u001b[0m                                Traceback (most recent call last)",
      "\u001b[1;32m<ipython-input-136-6272acca0809>\u001b[0m in \u001b[0;36m<module>\u001b[1;34m\u001b[0m\n\u001b[0;32m      5\u001b[0m \u001b[1;32mfor\u001b[0m \u001b[0mi\u001b[0m \u001b[1;32min\u001b[0m \u001b[0mrange\u001b[0m\u001b[1;33m(\u001b[0m\u001b[0mlen\u001b[0m\u001b[1;33m(\u001b[0m\u001b[0mgandalf\u001b[0m\u001b[1;33m)\u001b[0m\u001b[1;33m)\u001b[0m\u001b[1;33m:\u001b[0m\u001b[1;33m\u001b[0m\u001b[1;33m\u001b[0m\u001b[0m\n\u001b[0;32m      6\u001b[0m     \u001b[0mgandalf_power\u001b[0m\u001b[1;33m=\u001b[0m\u001b[0mpower\u001b[0m\u001b[1;33m[\u001b[0m\u001b[0mgandalf\u001b[0m\u001b[1;33m[\u001b[0m\u001b[0mi\u001b[0m\u001b[1;33m]\u001b[0m\u001b[1;33m]\u001b[0m\u001b[1;33m\u001b[0m\u001b[1;33m\u001b[0m\u001b[0m\n\u001b[1;32m----> 7\u001b[1;33m     \u001b[0mgandalf\u001b[0m\u001b[1;33m[\u001b[0m\u001b[0mspells\u001b[0m\u001b[1;33m-\u001b[0m\u001b[1;36m1\u001b[0m\u001b[1;33m]\u001b[0m\u001b[1;33m=\u001b[0m\u001b[0mgandalf_power\u001b[0m\u001b[1;33m\u001b[0m\u001b[1;33m\u001b[0m\u001b[0m\n\u001b[0m\u001b[0;32m      8\u001b[0m     \u001b[0mspells\u001b[0m\u001b[1;33m+=\u001b[0m\u001b[1;36m1\u001b[0m\u001b[1;33m\u001b[0m\u001b[1;33m\u001b[0m\u001b[0m\n\u001b[0;32m      9\u001b[0m \u001b[0mprint\u001b[0m\u001b[1;33m(\u001b[0m\u001b[1;34m\"The power of gandalf:\"\u001b[0m\u001b[1;33m,\u001b[0m\u001b[0mgandalf\u001b[0m\u001b[1;33m)\u001b[0m\u001b[1;33m\u001b[0m\u001b[1;33m\u001b[0m\u001b[0m\n",
      "\u001b[1;31mIndexError\u001b[0m: list assignment index out of range"
     ]
    }
   ],
   "source": [
    "\n",
    "for i in range(len(saruman)):\n",
    "    saruman_power=power[saruman[i]]\n",
    "    saruman[spells]=saruman_power\n",
    "    spells+=1\n",
    "for i in range(len(gandalf)):\n",
    "    gandalf_power=power[gandalf[i]]\n",
    "    gandalf[spells-1]=gandalf_power\n",
    "    spells+=1\n",
    "print(\"The power of gandalf:\",gandalf)\n",
    "print(\"The power of saruman:\",saruman)"
   ]
  },
  {
   "cell_type": "code",
   "execution_count": 141,
   "id": "4ae04701",
   "metadata": {},
   "outputs": [
    {
     "ename": "TypeError",
     "evalue": "unsupported operand type(s) for +: 'int' and 'str'",
     "output_type": "error",
     "traceback": [
      "\u001b[1;31m---------------------------------------------------------------------------\u001b[0m",
      "\u001b[1;31mTypeError\u001b[0m                                 Traceback (most recent call last)",
      "\u001b[1;32m<ipython-input-141-41768af997f1>\u001b[0m in \u001b[0;36m<module>\u001b[1;34m\u001b[0m\n\u001b[1;32m----> 1\u001b[1;33m \u001b[0maverage_gandalf\u001b[0m\u001b[1;33m=\u001b[0m\u001b[0msum\u001b[0m\u001b[1;33m(\u001b[0m\u001b[0mgandalf\u001b[0m\u001b[1;33m)\u001b[0m\u001b[1;33m/\u001b[0m\u001b[0mlen\u001b[0m\u001b[1;33m(\u001b[0m\u001b[0mgandalf\u001b[0m\u001b[1;33m)\u001b[0m\u001b[1;33m\u001b[0m\u001b[1;33m\u001b[0m\u001b[0m\n\u001b[0m\u001b[0;32m      2\u001b[0m \u001b[0maverage_saruman\u001b[0m\u001b[1;33m=\u001b[0m\u001b[0msum\u001b[0m\u001b[1;33m(\u001b[0m\u001b[0msaruman\u001b[0m\u001b[1;33m)\u001b[0m\u001b[1;33m/\u001b[0m\u001b[0mlen\u001b[0m\u001b[1;33m(\u001b[0m\u001b[0msaruman\u001b[0m\u001b[1;33m)\u001b[0m\u001b[1;33m\u001b[0m\u001b[1;33m\u001b[0m\u001b[0m\n\u001b[0;32m      3\u001b[0m \u001b[0mprint\u001b[0m\u001b[1;33m(\u001b[0m\u001b[1;34m\"the average spell power of Gandalf is\"\u001b[0m\u001b[1;33m,\u001b[0m\u001b[0maverage_gandalf\u001b[0m\u001b[1;33m)\u001b[0m\u001b[1;33m\u001b[0m\u001b[1;33m\u001b[0m\u001b[0m\n\u001b[0;32m      4\u001b[0m \u001b[0mprint\u001b[0m\u001b[1;33m(\u001b[0m\u001b[1;34m\"the average spell power of Saruman is\"\u001b[0m\u001b[1;33m,\u001b[0m\u001b[0maverage_saruman\u001b[0m\u001b[1;33m)\u001b[0m\u001b[1;33m\u001b[0m\u001b[1;33m\u001b[0m\u001b[0m\n",
      "\u001b[1;31mTypeError\u001b[0m: unsupported operand type(s) for +: 'int' and 'str'"
     ]
    }
   ],
   "source": [
    "average_gandalf=sum(gandalf)/len(gandalf)\n",
    "average_saruman=sum(saruman)/len(saruman)\n",
    "print(\"the average spell power of Gandalf is\",average_gandalf)\n",
    "print(\"the average spell power of Saruman is\",average_saruman)"
   ]
  },
  {
   "cell_type": "code",
   "execution_count": 154,
   "id": "c525f6ec",
   "metadata": {},
   "outputs": [],
   "source": [
    "gandalf: [50, 40, 40, 10, 50, 10, 40, 50, 50, 50]\n",
    "saruman: [45, 45, 25, 50, 25, 40, 10, 45, 10, 10]"
   ]
  },
  {
   "cell_type": "code",
   "execution_count": 155,
   "id": "3f5f689e",
   "metadata": {},
   "outputs": [
    {
     "ename": "TypeError",
     "evalue": "'<' not supported between instances of 'str' and 'int'",
     "output_type": "error",
     "traceback": [
      "\u001b[1;31m---------------------------------------------------------------------------\u001b[0m",
      "\u001b[1;31mTypeError\u001b[0m                                 Traceback (most recent call last)",
      "\u001b[1;32m<ipython-input-155-5dbee2a1406c>\u001b[0m in \u001b[0;36m<module>\u001b[1;34m\u001b[0m\n\u001b[0;32m      3\u001b[0m         \u001b[0mtie\u001b[0m\u001b[1;33m+=\u001b[0m\u001b[1;36m1\u001b[0m\u001b[1;33m\u001b[0m\u001b[1;33m\u001b[0m\u001b[0m\n\u001b[0;32m      4\u001b[0m         \u001b[0mprint\u001b[0m\u001b[1;33m(\u001b[0m\u001b[1;34m\"Tie!\"\u001b[0m\u001b[1;33m)\u001b[0m\u001b[1;33m\u001b[0m\u001b[1;33m\u001b[0m\u001b[0m\n\u001b[1;32m----> 5\u001b[1;33m     \u001b[1;32melif\u001b[0m \u001b[0mgandalf\u001b[0m\u001b[1;33m[\u001b[0m\u001b[0mi\u001b[0m\u001b[1;33m]\u001b[0m\u001b[1;33m<\u001b[0m\u001b[0msaruman\u001b[0m\u001b[1;33m[\u001b[0m\u001b[0mi\u001b[0m\u001b[1;33m]\u001b[0m\u001b[1;33m:\u001b[0m\u001b[1;33m\u001b[0m\u001b[1;33m\u001b[0m\u001b[0m\n\u001b[0m\u001b[0;32m      6\u001b[0m         \u001b[0msaruman_wins\u001b[0m\u001b[1;33m+=\u001b[0m\u001b[1;36m1\u001b[0m\u001b[1;33m\u001b[0m\u001b[1;33m\u001b[0m\u001b[0m\n\u001b[0;32m      7\u001b[0m         \u001b[1;32mwhile\u001b[0m \u001b[0msaruman_wins\u001b[0m\u001b[1;33m<\u001b[0m\u001b[1;36m3\u001b[0m\u001b[1;33m:\u001b[0m\u001b[1;33m\u001b[0m\u001b[1;33m\u001b[0m\u001b[0m\n",
      "\u001b[1;31mTypeError\u001b[0m: '<' not supported between instances of 'str' and 'int'"
     ]
    }
   ],
   "source": [
    "for i in range(len(saruman)):\n",
    "    if gandalf[i]==saruman[i]:\n",
    "        tie+=1\n",
    "        print(\"Tie!\")\n",
    "    elif gandalf[i]<saruman[i]:\n",
    "        saruman_wins+=1\n",
    "        while saruman_wins<3:\n",
    "            continue\n",
    "        print(\"Saruman gana 3 seguidas!\")\n",
    "                \n",
    "    else:\n",
    "        gandalf_wins+=1\n",
    "        while gandalf_wins<3:\n",
    "            continue\n",
    "        print(\"Gandalf gana 3 seguidas!\")"
   ]
  },
  {
   "cell_type": "code",
   "execution_count": 26,
   "id": "421d8f49",
   "metadata": {},
   "outputs": [
    {
     "name": "stdout",
     "output_type": "stream",
     "text": [
      "numero 13\n",
      "numero 25\n",
      "la suma es 8\n"
     ]
    }
   ],
   "source": [
    "def suma(x,y):\n",
    "    print(\"la suma es\",x+y)\n",
    "x=int(input(\"numero 1\"))\n",
    "y=int(input(\"numero 2\"))\n",
    "suma(x,y)\n",
    "   "
   ]
  },
  {
   "cell_type": "code",
   "execution_count": 24,
   "id": "1e898272",
   "metadata": {},
   "outputs": [
    {
     "name": "stdout",
     "output_type": "stream",
     "text": [
      "la suma es 10\n"
     ]
    }
   ],
   "source": [
    "suma(5,5)"
   ]
  },
  {
   "cell_type": "code",
   "execution_count": 28,
   "id": "2dd4b41f",
   "metadata": {},
   "outputs": [
    {
     "data": {
      "text/plain": [
       "150"
      ]
     },
     "execution_count": 28,
     "metadata": {},
     "output_type": "execute_result"
    }
   ],
   "source": [
    "\n",
    "muestra=[7,5,6,8,6,5,9,5,8,6,5,7,5,5,4,5,8,5,4,2,6,6,4,6,4,8,4,3,4,3,3,1,4,5,6,5,8,5,4,7,4,3,5,3,4,9,4,2,6,3,4,2,4,1,3,6,3,1,2,4,4,6,2,4,7,4,2,4,6,4,4,6,7,5,8,5,7,6,5,6,5,7,5,6,4,5,4,1,6,5,6,5,5,5,4,6,2,5,5,6,5,4,4,3,5,5,9,4,3,6,5,7,3,2,4,4,7,4,2,1,8,2,7,4,5,5,7,5,5,1,5,8,5,6,7,6,6,7,7,5,2,5,6,5,8,5,3,6,5,5]\n",
    "len(muestra)"
   ]
  },
  {
   "cell_type": "code",
   "execution_count": 29,
   "id": "c2d0ba16",
   "metadata": {},
   "outputs": [
    {
     "name": "stdout",
     "output_type": "stream",
     "text": [
      "1 9 4.873333333333333\n"
     ]
    }
   ],
   "source": [
    "minimo=min(muestra)\n",
    "maximo=max(muestra)\n",
    "media=sum(muestra)/len(muestra)\n",
    "print(minimo,maximo,media)"
   ]
  },
  {
   "cell_type": "code",
   "execution_count": 31,
   "id": "7012e19e",
   "metadata": {},
   "outputs": [
    {
     "name": "stdout",
     "output_type": "stream",
     "text": [
      "5.0\n"
     ]
    }
   ],
   "source": [
    "import statistics as stats\n",
    "print(stats.median(muestra))"
   ]
  },
  {
   "cell_type": "code",
   "execution_count": 32,
   "id": "b44a169e",
   "metadata": {},
   "outputs": [
    {
     "name": "stdout",
     "output_type": "stream",
     "text": [
      "5\n"
     ]
    }
   ],
   "source": [
    "print(stats.mode(muestra))"
   ]
  },
  {
   "cell_type": "code",
   "execution_count": 35,
   "id": "ae73cb92",
   "metadata": {},
   "outputs": [
    {
     "name": "stdout",
     "output_type": "stream",
     "text": [
      "5\n"
     ]
    }
   ],
   "source": [
    "print(stats.median_low(muestra))"
   ]
  },
  {
   "cell_type": "code",
   "execution_count": 36,
   "id": "32371c83",
   "metadata": {},
   "outputs": [
    {
     "name": "stdout",
     "output_type": "stream",
     "text": [
      "4.9\n"
     ]
    }
   ],
   "source": [
    "print(stats.median_grouped(muestra))"
   ]
  },
  {
   "cell_type": "code",
   "execution_count": 37,
   "id": "bd53fd3f",
   "metadata": {},
   "outputs": [
    {
     "name": "stdout",
     "output_type": "stream",
     "text": [
      "3.2039555555555554\n"
     ]
    }
   ],
   "source": [
    "print(stats.pvariance(muestra))"
   ]
  },
  {
   "cell_type": "code",
   "execution_count": 38,
   "id": "91801432",
   "metadata": {},
   "outputs": [
    {
     "name": "stdout",
     "output_type": "stream",
     "text": [
      "1.7959561834787037\n"
     ]
    }
   ],
   "source": [
    "print(stats.stdev(muestra))"
   ]
  },
  {
   "cell_type": "code",
   "execution_count": 39,
   "id": "45d1501b",
   "metadata": {},
   "outputs": [
    {
     "name": "stdout",
     "output_type": "stream",
     "text": [
      "1.7899596519350807\n"
     ]
    }
   ],
   "source": [
    "print(stats.pstdev(muestra))"
   ]
  },
  {
   "cell_type": "code",
   "execution_count": 41,
   "id": "005f5e76",
   "metadata": {},
   "outputs": [],
   "source": [
    "muestra.sort()"
   ]
  },
  {
   "cell_type": "code",
   "execution_count": 44,
   "id": "31a400ec",
   "metadata": {},
   "outputs": [
    {
     "name": "stdout",
     "output_type": "stream",
     "text": [
      "[1, 1, 1, 1, 1, 1, 2, 2, 2, 2, 2, 2, 2, 2, 2, 2, 2, 3, 3, 3, 3, 3, 3, 3, 3, 3, 3, 3, 3, 4, 4, 4, 4, 4, 4, 4, 4, 4, 4, 4, 4, 4, 4, 4, 4, 4, 4, 4, 4, 4, 4, 4, 4, 4, 4, 4, 4, 4, 4, 5, 5, 5, 5, 5, 5, 5, 5, 5, 5, 5, 5, 5, 5, 5, 5, 5, 5, 5, 5, 5, 5, 5, 5, 5, 5, 5, 5, 5, 5, 5, 5, 5, 5, 5, 5, 5, 5, 5, 5, 6, 6, 6, 6, 6, 6, 6, 6, 6, 6, 6, 6, 6, 6, 6, 6, 6, 6, 6, 6, 6, 6, 6, 6, 6, 7, 7, 7, 7, 7, 7, 7, 7, 7, 7, 7, 7, 7, 7, 8, 8, 8, 8, 8, 8, 8, 8, 8, 9, 9, 9]\n"
     ]
    }
   ],
   "source": [
    "print(muestra)"
   ]
  },
  {
   "cell_type": "code",
   "execution_count": 56,
   "id": "38e856bc",
   "metadata": {},
   "outputs": [],
   "source": [
    "numeros_muestra=[]\n",
    "for i in muestra:\n",
    "    x=i\n",
    "    if x>0 and:\n",
    "        numeros_muestra.append(x)\n"
   ]
  },
  {
   "cell_type": "code",
   "execution_count": 58,
   "id": "865dc08a",
   "metadata": {},
   "outputs": [
    {
     "data": {
      "text/plain": [
       "False"
      ]
     },
     "execution_count": 58,
     "metadata": {},
     "output_type": "execute_result"
    }
   ],
   "source": [
    "0 in numeros_muestra "
   ]
  },
  {
   "cell_type": "code",
   "execution_count": 59,
   "id": "e049231c",
   "metadata": {},
   "outputs": [],
   "source": [
    "def funcion():\n",
    "    print(\"Hola\")"
   ]
  },
  {
   "cell_type": "code",
   "execution_count": 60,
   "id": "876935a5",
   "metadata": {},
   "outputs": [
    {
     "name": "stdout",
     "output_type": "stream",
     "text": [
      "Hola\n"
     ]
    }
   ],
   "source": [
    "funcion()"
   ]
  },
  {
   "cell_type": "code",
   "execution_count": 63,
   "id": "62e97d8e",
   "metadata": {},
   "outputs": [],
   "source": [
    "def nombre():\n",
    "    x=input(\"nombre\")\n",
    "    print(funcion()+x)"
   ]
  },
  {
   "cell_type": "code",
   "execution_count": 64,
   "id": "043fb39e",
   "metadata": {},
   "outputs": [
    {
     "name": "stdout",
     "output_type": "stream",
     "text": [
      "nombreser\n",
      "Hola\n"
     ]
    },
    {
     "ename": "TypeError",
     "evalue": "unsupported operand type(s) for +: 'NoneType' and 'str'",
     "output_type": "error",
     "traceback": [
      "\u001b[1;31m---------------------------------------------------------------------------\u001b[0m",
      "\u001b[1;31mTypeError\u001b[0m                                 Traceback (most recent call last)",
      "\u001b[1;32m<ipython-input-64-5649dc59f08a>\u001b[0m in \u001b[0;36m<module>\u001b[1;34m\u001b[0m\n\u001b[1;32m----> 1\u001b[1;33m \u001b[0mnombre\u001b[0m\u001b[1;33m(\u001b[0m\u001b[1;33m)\u001b[0m\u001b[1;33m\u001b[0m\u001b[1;33m\u001b[0m\u001b[0m\n\u001b[0m",
      "\u001b[1;32m<ipython-input-63-6fcb15d5a4bf>\u001b[0m in \u001b[0;36mnombre\u001b[1;34m()\u001b[0m\n\u001b[0;32m      1\u001b[0m \u001b[1;32mdef\u001b[0m \u001b[0mnombre\u001b[0m\u001b[1;33m(\u001b[0m\u001b[1;33m)\u001b[0m\u001b[1;33m:\u001b[0m\u001b[1;33m\u001b[0m\u001b[1;33m\u001b[0m\u001b[0m\n\u001b[0;32m      2\u001b[0m     \u001b[0mx\u001b[0m\u001b[1;33m=\u001b[0m\u001b[0minput\u001b[0m\u001b[1;33m(\u001b[0m\u001b[1;34m\"nombre\"\u001b[0m\u001b[1;33m)\u001b[0m\u001b[1;33m\u001b[0m\u001b[1;33m\u001b[0m\u001b[0m\n\u001b[1;32m----> 3\u001b[1;33m     \u001b[0mprint\u001b[0m\u001b[1;33m(\u001b[0m\u001b[0mfuncion\u001b[0m\u001b[1;33m(\u001b[0m\u001b[1;33m)\u001b[0m\u001b[1;33m+\u001b[0m\u001b[0mx\u001b[0m\u001b[1;33m)\u001b[0m\u001b[1;33m\u001b[0m\u001b[1;33m\u001b[0m\u001b[0m\n\u001b[0m",
      "\u001b[1;31mTypeError\u001b[0m: unsupported operand type(s) for +: 'NoneType' and 'str'"
     ]
    }
   ],
   "source": [
    "nombre()"
   ]
  },
  {
   "cell_type": "code",
   "execution_count": 67,
   "id": "612e0a28",
   "metadata": {},
   "outputs": [],
   "source": [
    "def resta(num1,num2):\n",
    "\n",
    "    print(\"la resta es\",num1-num2)"
   ]
  },
  {
   "cell_type": "code",
   "execution_count": 69,
   "id": "394506db",
   "metadata": {},
   "outputs": [
    {
     "name": "stdout",
     "output_type": "stream",
     "text": [
      "num13\n",
      "num24\n",
      "la resta es -1\n"
     ]
    }
   ],
   "source": [
    "num1=int(input(\"num1\"))\n",
    "num2=int(input(\"num2\"))\n",
    "resta(num1,num2)"
   ]
  },
  {
   "cell_type": "code",
   "execution_count": null,
   "id": "8fdf7321",
   "metadata": {},
   "outputs": [],
   "source": [
    "def"
   ]
  }
 ],
 "metadata": {
  "kernelspec": {
   "display_name": "Python 3",
   "language": "python",
   "name": "python3"
  },
  "language_info": {
   "codemirror_mode": {
    "name": "ipython",
    "version": 3
   },
   "file_extension": ".py",
   "mimetype": "text/x-python",
   "name": "python",
   "nbconvert_exporter": "python",
   "pygments_lexer": "ipython3",
   "version": "3.8.8"
  }
 },
 "nbformat": 4,
 "nbformat_minor": 5
}
